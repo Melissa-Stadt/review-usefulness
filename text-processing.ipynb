{
 "cells": [
  {
   "cell_type": "markdown",
   "id": "42ad1036",
   "metadata": {},
   "source": [
    "## Text-processing\n",
    "\n",
    "Using the package NLTK we can see what sort of text we have in the reviews over the birth control data set"
   ]
  },
  {
   "cell_type": "code",
   "execution_count": 1,
   "id": "57cc2906",
   "metadata": {},
   "outputs": [],
   "source": [
    "# note: conda environment data_review is set up for this notebook\n",
    "import os\n",
    "\n",
    "import IPython\n",
    "\n",
    "import numpy as np\n",
    "import pandas as pd\n",
    "\n",
    "import matplotlib.pyplot as plt\n",
    "import seaborn as sns\n",
    "\n",
    "# these are scripts with functions made\n",
    "from basic_functions import*\n",
    "from text_process import*\n",
    "\n",
    "import nltk\n",
    "\n",
    "import plotly\n",
    "from plotly import tools\n",
    "import plotly.graph_objs as go\n",
    "\n",
    "import string"
   ]
  },
  {
   "cell_type": "code",
   "execution_count": 2,
   "id": "36e57211",
   "metadata": {},
   "outputs": [
    {
     "name": "stderr",
     "output_type": "stream",
     "text": [
      "[nltk_data] Downloading package stopwords to\n",
      "[nltk_data]     C:\\Users\\melis\\AppData\\Roaming\\nltk_data...\n",
      "[nltk_data]   Package stopwords is already up-to-date!\n"
     ]
    }
   ],
   "source": [
    "from nltk.corpus import stopwords\n",
    "nltk.download('stopwords')\n",
    "from nltk.tokenize import word_tokenize"
   ]
  },
  {
   "cell_type": "code",
   "execution_count": 3,
   "id": "8fa7857f",
   "metadata": {},
   "outputs": [],
   "source": [
    "# load the data\n",
    "bc_merged = load_BCmerged()"
   ]
  },
  {
   "cell_type": "code",
   "execution_count": 4,
   "id": "99b75583",
   "metadata": {},
   "outputs": [],
   "source": [
    "# Set stopwords\n",
    "# currently is using the nltk english stopwords list\n",
    "STOPWORDS = stopwords.words('english')"
   ]
  },
  {
   "cell_type": "code",
   "execution_count": 5,
   "id": "b65518b2",
   "metadata": {},
   "outputs": [
    {
     "name": "stdout",
     "output_type": "stream",
     "text": [
      "['i', 'me', 'my', 'myself', 'we', 'our', 'ours', 'ourselves', 'you', \"you're\", \"you've\", \"you'll\", \"you'd\", 'your', 'yours', 'yourself', 'yourselves', 'he', 'him', 'his', 'himself', 'she', \"she's\", 'her', 'hers', 'herself', 'it', \"it's\", 'its', 'itself', 'they', 'them', 'their', 'theirs', 'themselves', 'what', 'which', 'who', 'whom', 'this', 'that', \"that'll\", 'these', 'those', 'am', 'is', 'are', 'was', 'were', 'be', 'been', 'being', 'have', 'has', 'had', 'having', 'do', 'does', 'did', 'doing', 'a', 'an', 'the', 'and', 'but', 'if', 'or', 'because', 'as', 'until', 'while', 'of', 'at', 'by', 'for', 'with', 'about', 'against', 'between', 'into', 'through', 'during', 'before', 'after', 'above', 'below', 'to', 'from', 'up', 'down', 'in', 'out', 'on', 'off', 'over', 'under', 'again', 'further', 'then', 'once', 'here', 'there', 'when', 'where', 'why', 'how', 'all', 'any', 'both', 'each', 'few', 'more', 'most', 'other', 'some', 'such', 'no', 'nor', 'not', 'only', 'own', 'same', 'so', 'than', 'too', 'very', 's', 't', 'can', 'will', 'just', 'don', \"don't\", 'should', \"should've\", 'now', 'd', 'll', 'm', 'o', 're', 've', 'y', 'ain', 'aren', \"aren't\", 'couldn', \"couldn't\", 'didn', \"didn't\", 'doesn', \"doesn't\", 'hadn', \"hadn't\", 'hasn', \"hasn't\", 'haven', \"haven't\", 'isn', \"isn't\", 'ma', 'mightn', \"mightn't\", 'mustn', \"mustn't\", 'needn', \"needn't\", 'shan', \"shan't\", 'shouldn', \"shouldn't\", 'wasn', \"wasn't\", 'weren', \"weren't\", 'won', \"won't\", 'wouldn', \"wouldn't\"]\n"
     ]
    }
   ],
   "source": [
    "print(STOPWORDS)"
   ]
  },
  {
   "cell_type": "code",
   "execution_count": 6,
   "id": "ec1d0f60",
   "metadata": {},
   "outputs": [],
   "source": [
    "# removing not, no becuase those seem would be important\n",
    "STOPWORDS.remove('no')\n",
    "STOPWORDS.remove('not')"
   ]
  },
  {
   "cell_type": "code",
   "execution_count": 7,
   "id": "01a6c843",
   "metadata": {},
   "outputs": [
    {
     "name": "stdout",
     "output_type": "stream",
     "text": [
      "['i', 'me', 'my', 'myself', 'we', 'our', 'ours', 'ourselves', 'you', \"you're\", \"you've\", \"you'll\", \"you'd\", 'your', 'yours', 'yourself', 'yourselves', 'he', 'him', 'his', 'himself', 'she', \"she's\", 'her', 'hers', 'herself', 'it', \"it's\", 'its', 'itself', 'they', 'them', 'their', 'theirs', 'themselves', 'what', 'which', 'who', 'whom', 'this', 'that', \"that'll\", 'these', 'those', 'am', 'is', 'are', 'was', 'were', 'be', 'been', 'being', 'have', 'has', 'had', 'having', 'do', 'does', 'did', 'doing', 'a', 'an', 'the', 'and', 'but', 'if', 'or', 'because', 'as', 'until', 'while', 'of', 'at', 'by', 'for', 'with', 'about', 'against', 'between', 'into', 'through', 'during', 'before', 'after', 'above', 'below', 'to', 'from', 'up', 'down', 'in', 'out', 'on', 'off', 'over', 'under', 'again', 'further', 'then', 'once', 'here', 'there', 'when', 'where', 'why', 'how', 'all', 'any', 'both', 'each', 'few', 'more', 'most', 'other', 'some', 'such', 'nor', 'only', 'own', 'same', 'so', 'than', 'too', 'very', 's', 't', 'can', 'will', 'just', 'don', \"don't\", 'should', \"should've\", 'now', 'd', 'll', 'm', 'o', 're', 've', 'y', 'ain', 'aren', \"aren't\", 'couldn', \"couldn't\", 'didn', \"didn't\", 'doesn', \"doesn't\", 'hadn', \"hadn't\", 'hasn', \"hasn't\", 'haven', \"haven't\", 'isn', \"isn't\", 'ma', 'mightn', \"mightn't\", 'mustn', \"mustn't\", 'needn', \"needn't\", 'shan', \"shan't\", 'shouldn', \"shouldn't\", 'wasn', \"wasn't\", 'weren', \"weren't\", 'won', \"won't\", 'wouldn', \"wouldn't\"]\n"
     ]
    }
   ],
   "source": [
    "print(STOPWORDS)"
   ]
  },
  {
   "cell_type": "markdown",
   "id": "6c84ef65",
   "metadata": {},
   "source": [
    "# Pre-process the text\n",
    "\n",
    "Previous analysis did not have any text processing so here will preprocess and then reanalyze"
   ]
  },
  {
   "cell_type": "code",
   "execution_count": 8,
   "id": "69d7f794",
   "metadata": {},
   "outputs": [],
   "source": [
    "# check if is a number? Should we change to the word?"
   ]
  },
  {
   "cell_type": "code",
   "execution_count": 9,
   "id": "9a8c2515",
   "metadata": {},
   "outputs": [
    {
     "name": "stdout",
     "output_type": "stream",
     "text": [
      "I had been on the pill for many years. When my doctor changed my RX to chateal, it was as effective. It really did help me by completely clearing my acne, this takes about 6 months though. I did not gain extra weight, or develop any emotional health issues. I stopped taking it bc I started using a more natural method of birth control, but started to take it bc I hate that my acne came back at age 28. I really hope symptoms like depression, or weight gain do not begin to affect me as I am older now. I'm also naturally moody, so this may worsen things. I was in a negative mental rut today. Also I hope this doesn't push me over the edge, as I believe I am depressed. Hopefully it'll be just like when I was younger.\n"
     ]
    }
   ],
   "source": [
    "rev1 = example_review(bc_merged, 2)\n",
    "print(rev1)"
   ]
  },
  {
   "cell_type": "code",
   "execution_count": 10,
   "id": "d59958c0",
   "metadata": {},
   "outputs": [
    {
     "name": "stdout",
     "output_type": "stream",
     "text": [
      "['I', 'had', 'been', 'on', 'the', 'pill', 'for', 'many', 'years', '.', 'When', 'my', 'doctor', 'changed', 'my', 'RX', 'to', 'chateal', ',', 'it', 'was', 'as', 'effective', '.', 'It', 'really', 'did', 'help', 'me', 'by', 'completely', 'clearing', 'my', 'acne', ',', 'this', 'takes', 'about', '6', 'months', 'though', '.', 'I', 'did', 'not', 'gain', 'extra', 'weight', ',', 'or', 'develop', 'any', 'emotional', 'health', 'issues', '.', 'I', 'stopped', 'taking', 'it', 'bc', 'I', 'started', 'using', 'a', 'more', 'natural', 'method', 'of', 'birth', 'control', ',', 'but', 'started', 'to', 'take', 'it', 'bc', 'I', 'hate', 'that', 'my', 'acne', 'came', 'back', 'at', 'age', '28', '.', 'I', 'really', 'hope', 'symptoms', 'like', 'depression', ',', 'or', 'weight', 'gain', 'do', 'not', 'begin', 'to', 'affect', 'me', 'as', 'I', 'am', 'older', 'now', '.', 'I', \"'m\", 'also', 'naturally', 'moody', ',', 'so', 'this', 'may', 'worsen', 'things', '.', 'I', 'was', 'in', 'a', 'negative', 'mental', 'rut', 'today', '.', 'Also', 'I', 'hope', 'this', 'does', \"n't\", 'push', 'me', 'over', 'the', 'edge', ',', 'as', 'I', 'believe', 'I', 'am', 'depressed', '.', 'Hopefully', 'it', \"'ll\", 'be', 'just', 'like', 'when', 'I', 'was', 'younger', '.']\n"
     ]
    }
   ],
   "source": [
    "nltk_tokens = nltk.word_tokenize(rev1)\n",
    "print(nltk_tokens)"
   ]
  },
  {
   "cell_type": "markdown",
   "id": "7c435ba3",
   "metadata": {},
   "source": [
    "## Lemmatization"
   ]
  },
  {
   "cell_type": "code",
   "execution_count": 11,
   "id": "ced9c9e0",
   "metadata": {},
   "outputs": [
    {
     "name": "stdout",
     "output_type": "stream",
     "text": [
      "original review:\n",
      "I had been on the pill for many years. When my doctor changed my RX to chateal, it was as effective. It really did help me by completely clearing my acne, this takes about 6 months though. I did not gain extra weight, or develop any emotional health issues. I stopped taking it bc I started using a more natural method of birth control, but started to take it bc I hate that my acne came back at age 28. I really hope symptoms like depression, or weight gain do not begin to affect me as I am older now. I'm also naturally moody, so this may worsen things. I was in a negative mental rut today. Also I hope this doesn't push me over the edge, as I believe I am depressed. Hopefully it'll be just like when I was younger.\n",
      "\n",
      " lemmatized review:\n",
      "I had been on the pill for many year . When my doctor changed my RX to chateal , it wa a effective . It really did help me by completely clearing my acne , this take about 6 month though . I did not gain extra weight , or develop any emotional health issue . I stopped taking it bc I started using a more natural method of birth control , but started to take it bc I hate that my acne came back at age 28 . I really hope symptom like depression , or weight gain do not begin to affect me a I am older now . I 'm also naturally moody , so this may worsen thing . I wa in a negative mental rut today . Also I hope this doe n't push me over the edge , a I believe I am depressed . Hopefully it 'll be just like when I wa younger .\n"
     ]
    }
   ],
   "source": [
    "print('original review:')\n",
    "print(rev1)\n",
    "\n",
    "print('\\n lemmatized review:')\n",
    "print(lemmatize(rev1)) #lemmatize is function in text_process.py"
   ]
  },
  {
   "cell_type": "code",
   "execution_count": 12,
   "id": "95879a61",
   "metadata": {},
   "outputs": [],
   "source": [
    "data = bc_merged[0:100] # taking only first few to speed up code for now while experimenting"
   ]
  },
  {
   "cell_type": "code",
   "execution_count": 13,
   "id": "0211d114",
   "metadata": {},
   "outputs": [],
   "source": [
    "from nltk.stem import WordNetLemmatizer\n",
    "lemmatizer = WordNetLemmatizer()"
   ]
  },
  {
   "cell_type": "code",
   "execution_count": 14,
   "id": "060a3483",
   "metadata": {},
   "outputs": [],
   "source": [
    "# store the lemmatized review in review lemma for data\n",
    "# NOTE: this is not working.... need to figure out how to lemmatize all the data then can store under \"review lemma\" in the dataframe\n",
    "#data['review_lemma'] = data['review'].apply(lambda x: ' '.join([lemmatizer.lemmatize(w) for w in x.split()]))\n",
    "data['review_lemma'] = data['review'].apply(lemmatize)"
   ]
  },
  {
   "cell_type": "code",
   "execution_count": 15,
   "id": "a8a75040",
   "metadata": {},
   "outputs": [
    {
     "data": {
      "text/plain": [
       "\"I had been on the pill for many years. When my doctor changed my RX to chateal, it was as effective. It really did help me by completely clearing my acne, this takes about 6 months though. I did not gain extra weight, or develop any emotional health issues. I stopped taking it bc I started using a more natural method of birth control, but started to take it bc I hate that my acne came back at age 28. I really hope symptoms like depression, or weight gain do not begin to affect me as I am older now. I'm also naturally moody, so this may worsen things. I was in a negative mental rut today. Also I hope this doesn't push me over the edge, as I believe I am depressed. Hopefully it'll be just like when I was younger.\""
      ]
     },
     "execution_count": 15,
     "metadata": {},
     "output_type": "execute_result"
    }
   ],
   "source": [
    "# here we can see the data set now has the original review still\n",
    "data['review'].iloc[2]"
   ]
  },
  {
   "cell_type": "code",
   "execution_count": 16,
   "id": "7be1f096",
   "metadata": {},
   "outputs": [
    {
     "data": {
      "text/plain": [
       "\"I had been on the pill for many year . When my doctor changed my RX to chateal , it wa a effective . It really did help me by completely clearing my acne , this take about 6 month though . I did not gain extra weight , or develop any emotional health issue . I stopped taking it bc I started using a more natural method of birth control , but started to take it bc I hate that my acne came back at age 28 . I really hope symptom like depression , or weight gain do not begin to affect me a I am older now . I 'm also naturally moody , so this may worsen thing . I wa in a negative mental rut today . Also I hope this doe n't push me over the edge , a I believe I am depressed . Hopefully it 'll be just like when I wa younger .\""
      ]
     },
     "execution_count": 16,
     "metadata": {},
     "output_type": "execute_result"
    }
   ],
   "source": [
    "# the lemmatized review is under 'review_lemma'\n",
    "data['review_lemma'].iloc[2]"
   ]
  },
  {
   "cell_type": "markdown",
   "id": "afed2fe3",
   "metadata": {},
   "source": [
    "## Track key information\n",
    "\n",
    "Examples: unique words, number of letters, upper case word counts, title case word counts, number of stop words, average length of stop words\n",
    "\n",
    "Idea: we can use pandas to record things about each of the different reviews"
   ]
  },
  {
   "cell_type": "code",
   "execution_count": null,
   "id": "efa5a86b",
   "metadata": {},
   "outputs": [],
   "source": []
  },
  {
   "cell_type": "code",
   "execution_count": 17,
   "id": "86b6e5c3",
   "metadata": {},
   "outputs": [],
   "source": [
    "#Word count in each review\n",
    "data['count_word']=data[\"review\"].apply(lambda x: len(str(x).split()))\n",
    "\n",
    "#Unique word count \n",
    "data['count_unique_word']=data[\"review\"].apply(lambda x: len(set(str(x).split())))\n",
    "\n",
    "#Letter count\n",
    "data['count_letters']=data[\"review\"].apply(lambda x: len(str(x)))"
   ]
  },
  {
   "cell_type": "code",
   "execution_count": 18,
   "id": "fc7d88d5",
   "metadata": {},
   "outputs": [
    {
     "name": "stdout",
     "output_type": "stream",
     "text": [
      "word count: 142\n",
      "\n",
      "unique word count: 104\n",
      "\n"
     ]
    },
    {
     "data": {
      "text/plain": [
       "uniqueID                                                         48928\n",
       "drugName                            Ethinyl estradiol / levonorgestrel\n",
       "condition                                                Birth Control\n",
       "review               I had been on the pill for many years. When my...\n",
       "rating                                                               8\n",
       "date                                                          8-Dec-16\n",
       "usefulCount                                                          1\n",
       "review_lemma         I had been on the pill for many year . When my...\n",
       "count_word                                                         142\n",
       "count_unique_word                                                  104\n",
       "count_letters                                                      720\n",
       "Name: 9, dtype: object"
      ]
     },
     "execution_count": 18,
     "metadata": {},
     "output_type": "execute_result"
    }
   ],
   "source": [
    "print('word count: ' + str(data['count_word'].iloc[2]) + '\\n')\n",
    "print('unique word count: ' + str(data['count_unique_word'].iloc[2]) + '\\n')\n",
    "\n",
    "# here is what is stored in an example of the data now\n",
    "data.iloc[2]"
   ]
  },
  {
   "cell_type": "code",
   "execution_count": 19,
   "id": "36e8c4f4",
   "metadata": {},
   "outputs": [],
   "source": [
    "#punctuation count\n",
    "data[\"count_punctuations\"] = data[\"review\"].apply(lambda x: len([c for c in str(x) if c in string.punctuation]))\n",
    "\n",
    "#upper case words count\n",
    "data[\"count_words_upper\"] = data[\"review\"].apply(lambda x: len([w for w in str(x).split() if w.isupper()]))\n",
    "\n",
    "#title case words count\n",
    "data[\"count_words_title\"] = data[\"review\"].apply(lambda x: len([w for w in str(x).split() if w.istitle()]))\n",
    "\n",
    "#Number of stopwords\n",
    "data[\"count_stopwords\"] = data[\"review\"].apply(lambda x: len([w for w in str(x).lower().split() if w in STOPWORDS]))\n",
    "\n",
    "#Average length of the words\n",
    "data[\"mean_word_len\"] = data[\"review\"].apply(lambda x: np.mean([len(w) for w in str(x).split()]))"
   ]
  },
  {
   "cell_type": "code",
   "execution_count": 30,
   "id": "e268736e",
   "metadata": {},
   "outputs": [
    {
     "name": "stdout",
     "output_type": "stream",
     "text": [
      "10\n"
     ]
    }
   ],
   "source": [
    "# determine if useful review given threshold\n",
    "threshold = 5\n",
    "ex1=data.iloc[1]\n",
    "print(ex1['usefulCount'])\n",
    "\n",
    "\n",
    "# adds data frame to determine if useful or not (binary based on threshold)\n",
    "data['useful'] = data['usefulCount'].apply(lambda x: is_useful(x,threshold))"
   ]
  },
  {
   "cell_type": "code",
   "execution_count": 31,
   "id": "2b7e5768",
   "metadata": {},
   "outputs": [
    {
     "data": {
      "text/plain": [
       "2     1\n",
       "3     1\n",
       "9     0\n",
       "14    1\n",
       "22    1\n",
       "59    0\n",
       "61    1\n",
       "63    0\n",
       "64    1\n",
       "68    0\n",
       "Name: useful, dtype: int64"
      ]
     },
     "execution_count": 31,
     "metadata": {},
     "output_type": "execute_result"
    }
   ],
   "source": [
    "data['useful'].iloc[:10]"
   ]
  },
  {
   "cell_type": "code",
   "execution_count": null,
   "id": "901296b3",
   "metadata": {},
   "outputs": [],
   "source": [
    "# here is what is stored in one example of the data set\n",
    "data.iloc[3]"
   ]
  },
  {
   "cell_type": "code",
   "execution_count": null,
   "id": "4fe72c11",
   "metadata": {},
   "outputs": [],
   "source": [
    "# and another example\n",
    "data.iloc[57]"
   ]
  },
  {
   "cell_type": "code",
   "execution_count": null,
   "id": "d5f987f5",
   "metadata": {},
   "outputs": [],
   "source": [
    "from spellchecker import SpellChecker\n",
    "spell = SpellChecker()"
   ]
  },
  {
   "cell_type": "code",
   "execution_count": null,
   "id": "55ec1dd3",
   "metadata": {},
   "outputs": [],
   "source": [
    "spell.unknown(['halee', 'hapening'])"
   ]
  },
  {
   "cell_type": "code",
   "execution_count": null,
   "id": "83279e82",
   "metadata": {},
   "outputs": [],
   "source": [
    "spell.unknown(['my', 'mom', 'weant', 'to', 'the', 'stoore'])\n",
    "len(spell.unknown(['my', 'mom', 'weant', 'to', 'the', 'stoore']))"
   ]
  },
  {
   "cell_type": "code",
   "execution_count": null,
   "id": "b03703ee",
   "metadata": {},
   "outputs": [],
   "source": []
  },
  {
   "cell_type": "code",
   "execution_count": null,
   "id": "6dd91927",
   "metadata": {},
   "outputs": [],
   "source": [
    "# count_misspelled function is written in text_process.py\n",
    "\n",
    "# this spell checker does not seem to work super great, here did not pick up nam, iss or theyre\n",
    "count_misspelled('hey theyre my nam iss Melissa')"
   ]
  },
  {
   "cell_type": "code",
   "execution_count": null,
   "id": "f6782041",
   "metadata": {},
   "outputs": [],
   "source": [
    "ex = 'hey theyre my nam iss Melissa'\n",
    "word_list = nltk.word_tokenize(ex)\n",
    "print(word_list)\n",
    "spell.unknown(word_list)"
   ]
  },
  {
   "cell_type": "code",
   "execution_count": null,
   "id": "69a276c9",
   "metadata": {},
   "outputs": [],
   "source": [
    "text1 = example_review(data, 10)"
   ]
  },
  {
   "cell_type": "code",
   "execution_count": null,
   "id": "2c94e484",
   "metadata": {},
   "outputs": [],
   "source": [
    "count_misspelled(text1)"
   ]
  },
  {
   "cell_type": "code",
   "execution_count": null,
   "id": "6ba76278",
   "metadata": {},
   "outputs": [],
   "source": [
    "# counts drug names as misspelled\n",
    "# to do: add all the drug names to the known list\n",
    "spell.unknown(nltk.word_tokenize(text1))"
   ]
  },
  {
   "cell_type": "code",
   "execution_count": null,
   "id": "6865284d",
   "metadata": {},
   "outputs": [],
   "source": []
  }
 ],
 "metadata": {
  "kernelspec": {
   "display_name": "Python 3",
   "language": "python",
   "name": "python3"
  },
  "language_info": {
   "codemirror_mode": {
    "name": "ipython",
    "version": 3
   },
   "file_extension": ".py",
   "mimetype": "text/x-python",
   "name": "python",
   "nbconvert_exporter": "python",
   "pygments_lexer": "ipython3",
   "version": "3.9.4"
  }
 },
 "nbformat": 4,
 "nbformat_minor": 5
}
