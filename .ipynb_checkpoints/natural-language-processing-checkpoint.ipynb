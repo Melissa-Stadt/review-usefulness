{
 "cells": [
  {
   "cell_type": "markdown",
   "id": "c6677017",
   "metadata": {},
   "source": [
    "# Natural Language Processing\n",
    "1. **Removing stop words**\n",
    "* E.g., the, it, is, a\n",
    "2. **Stemming**\n",
    "* Cuts words off at their root into \"stems\" (e.g., runner, runs = run; caring = car)\n",
    "3. **Lemmatization**\n",
    "* reduces words to linguistically valid lemmas (contextual) (e.g., runner, runs = run; caring = care)\n"
   ]
  },
  {
   "cell_type": "code",
   "execution_count": 7,
   "id": "e63dfc24",
   "metadata": {},
   "outputs": [],
   "source": [
    "# note: conda environment data_review is set up for this notebook\n",
    "import os\n",
    "\n",
    "import IPython\n",
    "\n",
    "import numpy as np\n",
    "import pandas as pd\n",
    "\n",
    "import matplotlib.pyplot as plt\n",
    "import seaborn as sns\n"
   ]
  },
  {
   "cell_type": "code",
   "execution_count": 8,
   "id": "a0c40bae",
   "metadata": {},
   "outputs": [],
   "source": [
    "### plotting ###\n",
    "# set up plotting size\n",
    "sns.set(rc={\n",
    "    'figure.figsize':(18,8),\n",
    "    'axes.titlesize':14,\n",
    "})\n",
    "\n",
    "### pandas ###\n",
    "# make the tables more compact vertically, too\n",
    "pd.options.display.max_rows = 20"
   ]
  },
  {
   "cell_type": "code",
   "execution_count": 9,
   "id": "63604ad1",
   "metadata": {},
   "outputs": [],
   "source": [
    "# load the data\n",
    "\n",
    "test = pd.read_csv('./data/drugsComTest_raw.csv')\n",
    "train = pd.read_csv('./data/drugsComTrain_raw.csv')\n",
    "merge = [train,test]\n",
    "merged_data = pd.concat(merge,ignore_index=True)\n",
    "bc_merged = merged_data[merged_data['condition'] == 'Birth Control']"
   ]
  },
  {
   "cell_type": "markdown",
   "id": "f3d83cb9",
   "metadata": {},
   "source": [
    "**Remove HTML escaped characters**"
   ]
  },
  {
   "cell_type": "code",
   "execution_count": 11,
   "id": "a4965b75",
   "metadata": {},
   "outputs": [],
   "source": [
    "#This removes the HTML escaped charaters \n",
    "# Melissa note: for some reason the first time I run this it gives error but when I run through a second time is fine? \n",
    "from html import unescape\n",
    "\n",
    "def clean_review(text):\n",
    "    return unescape(text.strip(' \"\\'')).replace('\\ufeff1', '')\n",
    "\n",
    "bc_merged.review = bc_merged.review.apply(clean_review)"
   ]
  },
  {
   "cell_type": "markdown",
   "id": "90bd3d46",
   "metadata": {},
   "source": [
    "## Removing stop words"
   ]
  },
  {
   "cell_type": "markdown",
   "id": "b92d7fc8",
   "metadata": {},
   "source": [
    "**Note:** I found [this article](https://stackabuse.com/removing-stop-words-from-strings-in-python/#:~:text=With%20the%20Python%20programming%20language%2C%20you%20have%20a,remove%2C%20you%20can%20write%20your%20own%20custom%20script) super helpful about how to remove stop words with Python. There are several packages available that should be explored."
   ]
  },
  {
   "cell_type": "markdown",
   "id": "edd00025",
   "metadata": {},
   "source": [
    "### NLTK library"
   ]
  },
  {
   "cell_type": "code",
   "execution_count": 12,
   "id": "ab3523d3",
   "metadata": {},
   "outputs": [
    {
     "ename": "ModuleNotFoundError",
     "evalue": "No module named 'nltk'",
     "output_type": "error",
     "traceback": [
      "\u001b[1;31m---------------------------------------------------------------------------\u001b[0m",
      "\u001b[1;31mModuleNotFoundError\u001b[0m                       Traceback (most recent call last)",
      "\u001b[1;32m<ipython-input-12-478982259a6d>\u001b[0m in \u001b[0;36m<module>\u001b[1;34m\u001b[0m\n\u001b[1;32m----> 1\u001b[1;33m \u001b[1;32mimport\u001b[0m \u001b[0mnltk\u001b[0m\u001b[1;33m\u001b[0m\u001b[1;33m\u001b[0m\u001b[0m\n\u001b[0m\u001b[0;32m      2\u001b[0m \u001b[1;32mfrom\u001b[0m \u001b[0mnltk\u001b[0m\u001b[1;33m.\u001b[0m\u001b[0mcorpus\u001b[0m \u001b[1;32mimport\u001b[0m \u001b[0mstopwords\u001b[0m\u001b[1;33m\u001b[0m\u001b[1;33m\u001b[0m\u001b[0m\n\u001b[0;32m      3\u001b[0m \u001b[0mnltk\u001b[0m\u001b[1;33m.\u001b[0m\u001b[0mdownload\u001b[0m\u001b[1;33m(\u001b[0m\u001b[1;34m'stopwords'\u001b[0m\u001b[1;33m)\u001b[0m\u001b[1;33m\u001b[0m\u001b[1;33m\u001b[0m\u001b[0m\n\u001b[0;32m      4\u001b[0m \u001b[1;32mfrom\u001b[0m \u001b[0mnltk\u001b[0m\u001b[1;33m.\u001b[0m\u001b[0mtokenize\u001b[0m \u001b[1;32mimport\u001b[0m \u001b[0mword_tokenize\u001b[0m\u001b[1;33m\u001b[0m\u001b[1;33m\u001b[0m\u001b[0m\n",
      "\u001b[1;31mModuleNotFoundError\u001b[0m: No module named 'nltk'"
     ]
    }
   ],
   "source": [
    "import nltk\n",
    "from nltk.corpus import stopwords\n",
    "nltk.download('stopwords')\n",
    "from nltk.tokenize import word_tokenize"
   ]
  },
  {
   "cell_type": "markdown",
   "id": "d8a80281",
   "metadata": {},
   "source": [
    "**These are the stopwords for NLTK.** There are 179 of them."
   ]
  },
  {
   "cell_type": "code",
   "execution_count": 17,
   "id": "000ce631",
   "metadata": {},
   "outputs": [
    {
     "name": "stdout",
     "output_type": "stream",
     "text": [
      "['i', 'me', 'my', 'myself', 'we', 'our', 'ours', 'ourselves', 'you', \"you're\", \"you've\", \"you'll\", \"you'd\", 'your', 'yours', 'yourself', 'yourselves', 'he', 'him', 'his', 'himself', 'she', \"she's\", 'her', 'hers', 'herself', 'it', \"it's\", 'its', 'itself', 'they', 'them', 'their', 'theirs', 'themselves', 'what', 'which', 'who', 'whom', 'this', 'that', \"that'll\", 'these', 'those', 'am', 'is', 'are', 'was', 'were', 'be', 'been', 'being', 'have', 'has', 'had', 'having', 'do', 'does', 'did', 'doing', 'a', 'an', 'the', 'and', 'but', 'if', 'or', 'because', 'as', 'until', 'while', 'of', 'at', 'by', 'for', 'with', 'about', 'against', 'between', 'into', 'through', 'during', 'before', 'after', 'above', 'below', 'to', 'from', 'up', 'down', 'in', 'out', 'on', 'off', 'over', 'under', 'again', 'further', 'then', 'once', 'here', 'there', 'when', 'where', 'why', 'how', 'all', 'any', 'both', 'each', 'few', 'more', 'most', 'other', 'some', 'such', 'no', 'nor', 'not', 'only', 'own', 'same', 'so', 'than', 'too', 'very', 's', 't', 'can', 'will', 'just', 'don', \"don't\", 'should', \"should've\", 'now', 'd', 'll', 'm', 'o', 're', 've', 'y', 'ain', 'aren', \"aren't\", 'couldn', \"couldn't\", 'didn', \"didn't\", 'doesn', \"doesn't\", 'hadn', \"hadn't\", 'hasn', \"hasn't\", 'haven', \"haven't\", 'isn', \"isn't\", 'ma', 'mightn', \"mightn't\", 'mustn', \"mustn't\", 'needn', \"needn't\", 'shan', \"shan't\", 'shouldn', \"shouldn't\", 'wasn', \"wasn't\", 'weren', \"weren't\", 'won', \"won't\", 'wouldn', \"wouldn't\"]\n"
     ]
    },
    {
     "data": {
      "text/plain": [
       "179"
      ]
     },
     "execution_count": 17,
     "metadata": {},
     "output_type": "execute_result"
    }
   ],
   "source": [
    "# print out all the stopwords that are in english\n",
    "NLTK_stop = stopwords.words('english')\n",
    "print(NLTK_stop)\n",
    "len(NLTK_stop)"
   ]
  },
  {
   "cell_type": "markdown",
   "id": "8fb1fe57",
   "metadata": {},
   "source": [
    "### Gensim library"
   ]
  },
  {
   "cell_type": "code",
   "execution_count": 19,
   "id": "0619743f",
   "metadata": {},
   "outputs": [
    {
     "ename": "ModuleNotFoundError",
     "evalue": "No module named 'gensim'",
     "output_type": "error",
     "traceback": [
      "\u001b[1;31m---------------------------------------------------------------------------\u001b[0m",
      "\u001b[1;31mModuleNotFoundError\u001b[0m                       Traceback (most recent call last)",
      "\u001b[1;32m<ipython-input-19-e70e92d32c6e>\u001b[0m in \u001b[0;36m<module>\u001b[1;34m\u001b[0m\n\u001b[1;32m----> 1\u001b[1;33m \u001b[1;32mimport\u001b[0m \u001b[0mgensim\u001b[0m\u001b[1;33m\u001b[0m\u001b[1;33m\u001b[0m\u001b[0m\n\u001b[0m",
      "\u001b[1;31mModuleNotFoundError\u001b[0m: No module named 'gensim'"
     ]
    }
   ],
   "source": [
    "import gensim"
   ]
  },
  {
   "cell_type": "code",
   "execution_count": null,
   "id": "193fe3d7",
   "metadata": {},
   "outputs": [],
   "source": []
  },
  {
   "cell_type": "code",
   "execution_count": null,
   "id": "3f3d7294",
   "metadata": {},
   "outputs": [],
   "source": []
  },
  {
   "cell_type": "code",
   "execution_count": null,
   "id": "abaf469e",
   "metadata": {},
   "outputs": [],
   "source": []
  },
  {
   "cell_type": "code",
   "execution_count": null,
   "id": "f74647ae",
   "metadata": {},
   "outputs": [],
   "source": []
  }
 ],
 "metadata": {
  "kernelspec": {
   "display_name": "Python 3",
   "language": "python",
   "name": "python3"
  },
  "language_info": {
   "codemirror_mode": {
    "name": "ipython",
    "version": 3
   },
   "file_extension": ".py",
   "mimetype": "text/x-python",
   "name": "python",
   "nbconvert_exporter": "python",
   "pygments_lexer": "ipython3",
   "version": "3.9.4"
  }
 },
 "nbformat": 4,
 "nbformat_minor": 5
}
