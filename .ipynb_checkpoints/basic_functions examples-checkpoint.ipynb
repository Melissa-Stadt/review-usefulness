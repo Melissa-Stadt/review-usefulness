{
 "cells": [
  {
   "cell_type": "markdown",
   "id": "39d2f2aa",
   "metadata": {},
   "source": [
    "# Basic functions examples\n",
    "\n",
    "This notebook has some examples with functions that have been made or used from packages to process the reviews\n",
    "\n",
    "The code for each of these functions is in the file basic_functions.py"
   ]
  },
  {
   "cell_type": "code",
   "execution_count": 2,
   "id": "22a15f79",
   "metadata": {},
   "outputs": [],
   "source": [
    "# note: conda environment data_review is set up for this notebook\n",
    "from basic_functions import* #this script has some basic functions that can be helpful. Examples shown below"
   ]
  },
  {
   "cell_type": "code",
   "execution_count": 4,
   "id": "91a03647",
   "metadata": {},
   "outputs": [],
   "source": [
    "# load the data\n",
    "bc_merged = load_BCmerged()"
   ]
  },
  {
   "cell_type": "code",
   "execution_count": 5,
   "id": "e11bfd6b",
   "metadata": {},
   "outputs": [
    {
     "data": {
      "text/plain": [
       "'thirty-two and seven over eight'"
      ]
     },
     "execution_count": 5,
     "metadata": {},
     "output_type": "execute_result"
    }
   ],
   "source": [
    "# frac2words turns a fraction (mixed or not) into words\n",
    "frac2words('32 7/8')"
   ]
  },
  {
   "cell_type": "code",
   "execution_count": 6,
   "id": "3d689319",
   "metadata": {},
   "outputs": [
    {
     "data": {
      "text/plain": [
       "'four over two'"
      ]
     },
     "execution_count": 6,
     "metadata": {},
     "output_type": "execute_result"
    }
   ],
   "source": [
    "frac2words('4/2')"
   ]
  },
  {
   "cell_type": "code",
   "execution_count": 7,
   "id": "3daf0ba9",
   "metadata": {},
   "outputs": [
    {
     "name": "stdout",
     "output_type": "stream",
     "text": [
      "My experience during the nexplon is great not a pregnancy yet.  My only issue is it causes me too much bleeding. I get my periods from every other week up to 1 month up to 3 month . And it ruins My sex life\n",
      "2     I used to take another oral contraceptive, whi...\n",
      "3     This is my first time using any form of birth ...\n",
      "9     I had been on the pill for many years. When my...\n",
      "14    Started Nexplanon 2 months ago because I have ...\n",
      "22    Nexplanon does its job. I can have worry free ...\n",
      "Name: review, dtype: object\n",
      "3     This is my first time using any form of birth ...\n",
      "14    Started Nexplanon 2 months ago because I have ...\n",
      "59    Never again! After being on depo I was suppose...\n",
      "61    I was put on Yasmin for 6 months to regulate m...\n",
      "Name: review, dtype: object\n"
     ]
    }
   ],
   "source": [
    "# example_review(data, nums) gives a review for a given number or list of numbers\n",
    "print(example_review(bc_merged, 10))\n",
    "# first n reviews\n",
    "n=5\n",
    "print(example_review(bc_merged, range(n)))\n",
    "# some list of numbers review\n",
    "print(example_review(bc_merged, [1,3,5,6]))"
   ]
  },
  {
   "cell_type": "markdown",
   "id": "2d4f755e",
   "metadata": {},
   "source": [
    "### clean_review takes out the HTML escape characters (note: already used in load_BCmerged to clean it so in this example we load the data not cleaned)"
   ]
  },
  {
   "cell_type": "code",
   "execution_count": 14,
   "id": "0ead09eb",
   "metadata": {},
   "outputs": [],
   "source": [
    "test = pd.read_csv('./data/drugsComTest_raw.csv')\n",
    "train = pd.read_csv('./data/drugsComTrain_raw.csv')\n",
    "merge = [train,test]\n",
    "merged_data = pd.concat(merge,ignore_index=True)\n",
    "bc_merged2 = merged_data[merged_data['condition'] == 'Birth Control']"
   ]
  },
  {
   "cell_type": "code",
   "execution_count": 15,
   "id": "99231e73",
   "metadata": {},
   "outputs": [
    {
     "name": "stdout",
     "output_type": "stream",
     "text": [
      "\"I&#039;ve had mine for over a year and noticed the weight gain, mood swings, but no acne. My body adjusted quick and I lost the weight. The only issue I&#039;ve had is every time my boyfriend and I have sex, I spot the next day for less than a week. Other than those issues I love it and recommend it to all of my friends!\"\n",
      "\n",
      "\n",
      "\"I had been on the pill for many years. When my doctor changed my RX to chateal, it was as effective. It really did help me by completely clearing my acne, this takes about 6 months though. I did not gain extra weight, or develop any emotional health issues. I stopped taking it bc I started using a more natural method of birth control, but started to take it bc I hate that my acne came back at age 28. I really hope symptoms like depression, or weight gain do not begin to affect me as I am older now. I&#039;m also naturally moody, so this may worsen things. I was in a negative mental rut today. Also I hope this doesn&#039;t push me over the edge, as I believe I am depressed. Hopefully it&#039;ll be just like when I was younger.\"\n"
     ]
    }
   ],
   "source": [
    "# we can see this review has a &#039 for the apostrophe\n",
    "print(example_review(bc_merged2, 11))\n",
    "\n",
    "print('\\n')\n",
    "\n",
    "print(example_review(bc_merged2,2))"
   ]
  },
  {
   "cell_type": "code",
   "execution_count": 16,
   "id": "049ba6c6",
   "metadata": {},
   "outputs": [
    {
     "name": "stdout",
     "output_type": "stream",
     "text": [
      "I've had mine for over a year and noticed the weight gain, mood swings, but no acne. My body adjusted quick and I lost the weight. The only issue I've had is every time my boyfriend and I have sex, I spot the next day for less than a week. Other than those issues I love it and recommend it to all of my friends!\n"
     ]
    }
   ],
   "source": [
    "# clean_review fixes it\n",
    "print(clean_review(example_review(bc_merged2,11)))"
   ]
  },
  {
   "cell_type": "code",
   "execution_count": 17,
   "id": "3c9fb9bf",
   "metadata": {},
   "outputs": [],
   "source": [
    "# can do to the full data set by the following\n",
    "bc_merged2.review = bc_merged.review.apply(clean_review)"
   ]
  },
  {
   "cell_type": "code",
   "execution_count": 18,
   "id": "6be0c238",
   "metadata": {},
   "outputs": [
    {
     "data": {
      "text/plain": [
       "\"I had been on the pill for many years. When my doctor changed my RX to chateal, it was as effective. It really did help me by completely clearing my acne, this takes about 6 months though. I did not gain extra weight, or develop any emotional health issues. I stopped taking it bc I started using a more natural method of birth control, but started to take it bc I hate that my acne came back at age 28. I really hope symptoms like depression, or weight gain do not begin to affect me as I am older now. I'm also naturally moody, so this may worsen things. I was in a negative mental rut today. Also I hope this doesn't push me over the edge, as I believe I am depressed. Hopefully it'll be just like when I was younger.\""
      ]
     },
     "execution_count": 18,
     "metadata": {},
     "output_type": "execute_result"
    }
   ],
   "source": [
    "example_review(bc_merged2, 2)"
   ]
  },
  {
   "cell_type": "code",
   "execution_count": null,
   "id": "652411d1",
   "metadata": {},
   "outputs": [],
   "source": []
  }
 ],
 "metadata": {
  "kernelspec": {
   "display_name": "Python 3",
   "language": "python",
   "name": "python3"
  },
  "language_info": {
   "codemirror_mode": {
    "name": "ipython",
    "version": 3
   },
   "file_extension": ".py",
   "mimetype": "text/x-python",
   "name": "python",
   "nbconvert_exporter": "python",
   "pygments_lexer": "ipython3",
   "version": "3.9.4"
  }
 },
 "nbformat": 4,
 "nbformat_minor": 5
}
