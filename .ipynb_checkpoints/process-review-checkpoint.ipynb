{
 "cells": [
  {
   "cell_type": "markdown",
   "id": "3b6a5323",
   "metadata": {},
   "source": [
    "# Review processing functions"
   ]
  },
  {
   "cell_type": "code",
   "execution_count": 1,
   "id": "1593bf9e",
   "metadata": {},
   "outputs": [],
   "source": [
    "# note: conda environment data_review is set up for this notebook\n",
    "import os\n",
    "\n",
    "import IPython\n",
    "\n",
    "import numpy as np\n",
    "import pandas as pd\n",
    "\n",
    "import matplotlib.pyplot as plt\n",
    "import seaborn as sns"
   ]
  },
  {
   "cell_type": "code",
   "execution_count": 2,
   "id": "4dc90a33",
   "metadata": {},
   "outputs": [],
   "source": [
    "# load the data\n",
    "\n",
    "test = pd.read_csv('./data/drugsComTest_raw.csv')\n",
    "train = pd.read_csv('./data/drugsComTrain_raw.csv')\n",
    "merge = [train,test]\n",
    "merged_data = pd.concat(merge,ignore_index=True)\n",
    "bc_merged = merged_data[merged_data['condition'] == 'Birth Control']"
   ]
  },
  {
   "cell_type": "code",
   "execution_count": 3,
   "id": "1c07ffda",
   "metadata": {},
   "outputs": [
    {
     "name": "stderr",
     "output_type": "stream",
     "text": [
      "C:\\Users\\melis\\anaconda3\\lib\\site-packages\\pandas\\core\\generic.py:5494: SettingWithCopyWarning: \n",
      "A value is trying to be set on a copy of a slice from a DataFrame.\n",
      "Try using .loc[row_indexer,col_indexer] = value instead\n",
      "\n",
      "See the caveats in the documentation: https://pandas.pydata.org/pandas-docs/stable/user_guide/indexing.html#returning-a-view-versus-a-copy\n",
      "  self[name] = value\n"
     ]
    }
   ],
   "source": [
    "#This removes the HTML escaped charaters  \n",
    "from html import unescape\n",
    "\n",
    "def clean_review(text):\n",
    "    return unescape(text.strip(' \"\\'')).replace('\\ufeff1', '')\n",
    "\n",
    "bc_merged.review = bc_merged.review.apply(clean_review)"
   ]
  },
  {
   "cell_type": "markdown",
   "id": "b6df72e8",
   "metadata": {},
   "source": [
    "### Basic retrieving functions\n",
    "\n",
    "These are just helpful little functions to get things like example reviews for testing out what text-processing functions do to some examples."
   ]
  },
  {
   "cell_type": "code",
   "execution_count": 4,
   "id": "e33ca80c",
   "metadata": {},
   "outputs": [],
   "source": [
    "# Functions for getting some example reviews\n",
    "\n",
    "def example_review(data, nums):\n",
    "    # from data gives you the review for a given number\n",
    "    # this is helpful for when testing things\n",
    "    #\n",
    "    # Inputs: data you are working from, nums: number or list of numbers\n",
    "    # Output: review or reviews\n",
    "    example = data.review.iloc[nums]\n",
    "    return example"
   ]
  },
  {
   "cell_type": "code",
   "execution_count": 5,
   "id": "55e90589",
   "metadata": {},
   "outputs": [
    {
     "name": "stdout",
     "output_type": "stream",
     "text": [
      "My experience during the nexplon is great not a pregnancy yet.  My only issue is it causes me too much bleeding. I get my periods from every other week up to 1 month up to 3 month . And it ruins My sex life\n"
     ]
    }
   ],
   "source": [
    "# You can get just one review\n",
    "print(example_review(bc_merged, 10))"
   ]
  },
  {
   "cell_type": "code",
   "execution_count": 6,
   "id": "4fa7381d",
   "metadata": {},
   "outputs": [
    {
     "name": "stdout",
     "output_type": "stream",
     "text": [
      "2     I used to take another oral contraceptive, whi...\n",
      "3     This is my first time using any form of birth ...\n",
      "9     I had been on the pill for many years. When my...\n",
      "14    Started Nexplanon 2 months ago because I have ...\n",
      "22    Nexplanon does its job. I can have worry free ...\n",
      "Name: review, dtype: object\n"
     ]
    }
   ],
   "source": [
    "# the first n reviews\n",
    "n=5\n",
    "print(example_review(bc_merged, range(n)))"
   ]
  },
  {
   "cell_type": "code",
   "execution_count": 7,
   "id": "f5f72397",
   "metadata": {},
   "outputs": [
    {
     "name": "stdout",
     "output_type": "stream",
     "text": [
      "3     This is my first time using any form of birth ...\n",
      "14    Started Nexplanon 2 months ago because I have ...\n",
      "59    Never again! After being on depo I was suppose...\n",
      "61    I was put on Yasmin for 6 months to regulate m...\n",
      "Name: review, dtype: object\n"
     ]
    }
   ],
   "source": [
    "# some list of numbers review\n",
    "print(example_review(bc_merged, [1,3,5,6]))"
   ]
  },
  {
   "cell_type": "markdown",
   "id": "684ecc69",
   "metadata": {},
   "source": [
    "## Fractions\n",
    "\n",
    "Want: turn fractions into words"
   ]
  },
  {
   "cell_type": "code",
   "execution_count": 17,
   "id": "d0200a6b",
   "metadata": {},
   "outputs": [],
   "source": [
    "def frac2words(frac):\n",
    "    # frac is a string\n",
    "    temp = frac.split(' ')\n",
    "    if len(temp) == 2:\n",
    "        whole = temp[0]\n",
    "        temp2 = temp[1].split('/') # second number would be fraction\n",
    "        num = temp2[0]\n",
    "        denom = temp2[1]\n",
    "    else:\n",
    "        whole = 0\n",
    "        temp2 = frac.split('/')\n",
    "        num = temp2[0]\n",
    "        denom = temp2[1]\n",
    "    return whole, num, denom\n",
    "    "
   ]
  },
  {
   "cell_type": "code",
   "execution_count": 18,
   "id": "0392ec1c",
   "metadata": {},
   "outputs": [],
   "source": [
    "frac = '32 1/4'"
   ]
  },
  {
   "cell_type": "code",
   "execution_count": 19,
   "id": "055b3f8d",
   "metadata": {},
   "outputs": [
    {
     "data": {
      "text/plain": [
       "('32', '1', '4')"
      ]
     },
     "execution_count": 19,
     "metadata": {},
     "output_type": "execute_result"
    }
   ],
   "source": [
    "frac2words(frac)"
   ]
  },
  {
   "cell_type": "code",
   "execution_count": 20,
   "id": "b83c97e8",
   "metadata": {},
   "outputs": [
    {
     "data": {
      "text/plain": [
       "(0, '2', '3')"
      ]
     },
     "execution_count": 20,
     "metadata": {},
     "output_type": "execute_result"
    }
   ],
   "source": [
    "frac1 = '2/3'\n",
    "frac2words(frac1)"
   ]
  },
  {
   "cell_type": "code",
   "execution_count": 22,
   "id": "72c7f4e7",
   "metadata": {},
   "outputs": [
    {
     "ename": "ModuleNotFoundError",
     "evalue": "No module named 'num2word'",
     "output_type": "error",
     "traceback": [
      "\u001b[1;31m---------------------------------------------------------------------------\u001b[0m",
      "\u001b[1;31mModuleNotFoundError\u001b[0m                       Traceback (most recent call last)",
      "\u001b[1;32m<ipython-input-22-9d79d5519cbe>\u001b[0m in \u001b[0;36m<module>\u001b[1;34m\u001b[0m\n\u001b[1;32m----> 1\u001b[1;33m \u001b[1;32mimport\u001b[0m \u001b[0mnum2word\u001b[0m\u001b[1;33m\u001b[0m\u001b[1;33m\u001b[0m\u001b[0m\n\u001b[0m",
      "\u001b[1;31mModuleNotFoundError\u001b[0m: No module named 'num2word'"
     ]
    }
   ],
   "source": [
    "import num2word"
   ]
  },
  {
   "cell_type": "code",
   "execution_count": null,
   "id": "930ede3f",
   "metadata": {},
   "outputs": [],
   "source": []
  }
 ],
 "metadata": {
  "kernelspec": {
   "display_name": "Python 3",
   "language": "python",
   "name": "python3"
  },
  "language_info": {
   "codemirror_mode": {
    "name": "ipython",
    "version": 3
   },
   "file_extension": ".py",
   "mimetype": "text/x-python",
   "name": "python",
   "nbconvert_exporter": "python",
   "pygments_lexer": "ipython3",
   "version": "3.8.5"
  }
 },
 "nbformat": 4,
 "nbformat_minor": 5
}
