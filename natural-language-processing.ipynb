{
 "cells": [
  {
   "cell_type": "markdown",
   "id": "c6677017",
   "metadata": {},
   "source": [
    "# Natural Language Processing\n",
    "1. **Removing stop words**\n",
    "* E.g., the, it, is, a\n",
    "2. **Stemming**\n",
    "* Cuts words off at their root into \"stems\" (e.g., runner, runs = run; caring = car)\n",
    "3. **Lemmatization**\n",
    "* reduces words to linguistically valid lemmas (contextual) (e.g., runner, runs = run; caring = care)\n"
   ]
  },
  {
   "cell_type": "code",
   "execution_count": 36,
   "id": "e63dfc24",
   "metadata": {},
   "outputs": [],
   "source": [
    "# note: conda environment data_review is set up for this notebook\n",
    "import os\n",
    "\n",
    "import IPython\n",
    "\n",
    "import numpy as np\n",
    "import pandas as pd\n",
    "\n",
    "import matplotlib.pyplot as plt\n",
    "import seaborn as sns\n"
   ]
  },
  {
   "cell_type": "code",
   "execution_count": 37,
   "id": "a0c40bae",
   "metadata": {},
   "outputs": [],
   "source": [
    "### plotting ###\n",
    "# set up plotting size\n",
    "sns.set(rc={\n",
    "    'figure.figsize':(18,8),\n",
    "    'axes.titlesize':14,\n",
    "})\n",
    "\n",
    "### pandas ###\n",
    "# make the tables more compact vertically, too\n",
    "pd.options.display.max_rows = 20"
   ]
  },
  {
   "cell_type": "code",
   "execution_count": 38,
   "id": "63604ad1",
   "metadata": {},
   "outputs": [],
   "source": [
    "# load the data\n",
    "\n",
    "test = pd.read_csv('./data/drugsComTest_raw.csv')\n",
    "train = pd.read_csv('./data/drugsComTrain_raw.csv')\n",
    "merge = [train,test]\n",
    "merged_data = pd.concat(merge,ignore_index=True)\n",
    "bc_merged = merged_data[merged_data['condition'] == 'Birth Control']"
   ]
  },
  {
   "cell_type": "markdown",
   "id": "f3d83cb9",
   "metadata": {},
   "source": [
    "**This is a way to clean up the reviews**"
   ]
  },
  {
   "cell_type": "code",
   "execution_count": 43,
   "id": "a4965b75",
   "metadata": {},
   "outputs": [],
   "source": [
    "#This removes the HTML escaped charaters \n",
    "# Melissa note: for some reason the first time I run this it gives error but when I run through a second time is fine? \n",
    "from html import unescape\n",
    "\n",
    "def clean_review(text):\n",
    "    return unescape(text.strip(' \"\\'')).replace('\\ufeff1', '')\n",
    "\n",
    "bc_merged.review = bc_merged.review.apply(clean_review)"
   ]
  },
  {
   "cell_type": "code",
   "execution_count": null,
   "id": "162db8d8",
   "metadata": {},
   "outputs": [],
   "source": []
  },
  {
   "cell_type": "markdown",
   "id": "90bd3d46",
   "metadata": {},
   "source": [
    "## Removing stop words"
   ]
  },
  {
   "cell_type": "markdown",
   "id": "b92d7fc8",
   "metadata": {},
   "source": [
    "**Note:** I found [this article](https://stackabuse.com/removing-stop-words-from-strings-in-python/#:~:text=With%20the%20Python%20programming%20language%2C%20you%20have%20a,remove%2C%20you%20can%20write%20your%20own%20custom%20script) super helpful about how to remove stop words with Python. There are several packages available that should be explored."
   ]
  },
  {
   "cell_type": "markdown",
   "id": "edd00025",
   "metadata": {},
   "source": [
    "### NLTK library"
   ]
  },
  {
   "cell_type": "code",
   "execution_count": 13,
   "id": "ab3523d3",
   "metadata": {},
   "outputs": [
    {
     "name": "stderr",
     "output_type": "stream",
     "text": [
      "[nltk_data] Downloading package stopwords to\n",
      "[nltk_data]     C:\\Users\\melis\\AppData\\Roaming\\nltk_data...\n",
      "[nltk_data]   Package stopwords is already up-to-date!\n"
     ]
    }
   ],
   "source": [
    "import nltk\n",
    "from nltk.corpus import stopwords\n",
    "nltk.download('stopwords')\n",
    "from nltk.tokenize import word_tokenize"
   ]
  },
  {
   "cell_type": "markdown",
   "id": "d8a80281",
   "metadata": {},
   "source": [
    "**These are the stopwords for NLTK.** There are 179 of them."
   ]
  },
  {
   "cell_type": "code",
   "execution_count": 14,
   "id": "000ce631",
   "metadata": {},
   "outputs": [
    {
     "name": "stdout",
     "output_type": "stream",
     "text": [
      "['i', 'me', 'my', 'myself', 'we', 'our', 'ours', 'ourselves', 'you', \"you're\", \"you've\", \"you'll\", \"you'd\", 'your', 'yours', 'yourself', 'yourselves', 'he', 'him', 'his', 'himself', 'she', \"she's\", 'her', 'hers', 'herself', 'it', \"it's\", 'its', 'itself', 'they', 'them', 'their', 'theirs', 'themselves', 'what', 'which', 'who', 'whom', 'this', 'that', \"that'll\", 'these', 'those', 'am', 'is', 'are', 'was', 'were', 'be', 'been', 'being', 'have', 'has', 'had', 'having', 'do', 'does', 'did', 'doing', 'a', 'an', 'the', 'and', 'but', 'if', 'or', 'because', 'as', 'until', 'while', 'of', 'at', 'by', 'for', 'with', 'about', 'against', 'between', 'into', 'through', 'during', 'before', 'after', 'above', 'below', 'to', 'from', 'up', 'down', 'in', 'out', 'on', 'off', 'over', 'under', 'again', 'further', 'then', 'once', 'here', 'there', 'when', 'where', 'why', 'how', 'all', 'any', 'both', 'each', 'few', 'more', 'most', 'other', 'some', 'such', 'no', 'nor', 'not', 'only', 'own', 'same', 'so', 'than', 'too', 'very', 's', 't', 'can', 'will', 'just', 'don', \"don't\", 'should', \"should've\", 'now', 'd', 'll', 'm', 'o', 're', 've', 'y', 'ain', 'aren', \"aren't\", 'couldn', \"couldn't\", 'didn', \"didn't\", 'doesn', \"doesn't\", 'hadn', \"hadn't\", 'hasn', \"hasn't\", 'haven', \"haven't\", 'isn', \"isn't\", 'ma', 'mightn', \"mightn't\", 'mustn', \"mustn't\", 'needn', \"needn't\", 'shan', \"shan't\", 'shouldn', \"shouldn't\", 'wasn', \"wasn't\", 'weren', \"weren't\", 'won', \"won't\", 'wouldn', \"wouldn't\"]\n"
     ]
    },
    {
     "data": {
      "text/plain": [
       "179"
      ]
     },
     "execution_count": 14,
     "metadata": {},
     "output_type": "execute_result"
    }
   ],
   "source": [
    "# print out all the stopwords that are in english\n",
    "NLTK_stop = stopwords.words('english')\n",
    "print(NLTK_stop)\n",
    "len(NLTK_stop)"
   ]
  },
  {
   "cell_type": "markdown",
   "id": "8fb1fe57",
   "metadata": {},
   "source": [
    "### Gensim library"
   ]
  },
  {
   "cell_type": "code",
   "execution_count": 16,
   "id": "0619743f",
   "metadata": {},
   "outputs": [
    {
     "name": "stderr",
     "output_type": "stream",
     "text": [
      "C:\\Users\\melis\\anaconda3\\envs\\data_review\\lib\\site-packages\\gensim\\similarities\\__init__.py:15: UserWarning: The gensim.similarities.levenshtein submodule is disabled, because the optional Levenshtein package <https://pypi.org/project/python-Levenshtein/> is unavailable. Install Levenhstein (e.g. `pip install python-Levenshtein`) to suppress this warning.\n",
      "  warnings.warn(msg)\n"
     ]
    }
   ],
   "source": [
    "import gensim"
   ]
  },
  {
   "cell_type": "markdown",
   "id": "166cfaca",
   "metadata": {},
   "source": [
    "**These are the stopwords for Gensim.** There are 337 of them."
   ]
  },
  {
   "cell_type": "code",
   "execution_count": 17,
   "id": "193fe3d7",
   "metadata": {},
   "outputs": [
    {
     "name": "stdout",
     "output_type": "stream",
     "text": [
      "frozenset({'kg', 'that', 'around', 'various', 'latter', 'during', 'our', 'both', 'under', 'anything', 'any', 'bottom', 'hereupon', 'did', 'out', 'really', 'they', 'hers', 'somewhere', 'three', 'also', 'this', 'who', 'alone', 'although', 'whereby', 'enough', 'elsewhere', 'sometimes', 'per', 'everyone', 'together', 'along', 'it', 'doing', 'thereupon', 'within', 'an', 'all', 'used', 'most', 'seeming', 'being', 'more', 'beside', 'latterly', 'whatever', 'below', 'back', 'done', 'sometime', 'have', 'whither', 'don', 'him', 'ie', 'his', 'those', 'off', 'rather', 'somehow', 'up', 'afterwards', 'already', 'themselves', 'over', 'cannot', 'behind', 'am', 'front', 'whereafter', 'even', 'while', 'own', 'forty', 'didn', 'by', 'against', 'might', 'so', 'every', 'due', 'very', 'anyway', 'can', 'thin', 'thence', 'too', 'which', 'seem', 'now', 'several', 'ever', 'me', 'nowhere', 'full', 'then', 'besides', 'anyone', 'above', 'but', 'throughout', 'of', 'becoming', 'everywhere', 'how', 'much', 'eg', 'yourself', 'must', 'give', 'hasnt', 'find', 'unless', 'myself', 'again', 'with', 'wherein', 'else', 'from', 'therefore', 'before', 'call', 'he', 'here', 'put', 'upon', 'eleven', 'to', 'whether', 'seems', 'on', 'cant', 'why', 'another', 'than', 'thick', 'nor', 'therein', 'namely', 'well', 'same', 'these', 'at', 'we', 'whence', 'its', 'nevertheless', 'could', 'hundred', 'cry', 'a', 'regarding', 'across', 'km', 'not', 'for', 'until', 'beyond', 'some', 'sixty', 'say', 'whereas', 'either', 'fifty', 'himself', 'less', 'five', 'one', 'into', 'however', 'beforehand', 'whereupon', 'meanwhile', 'do', 'does', 'many', 'yourselves', 'she', 'anywhere', 'becomes', 'bill', 'amoungst', 'my', 'ltd', 'as', 'was', 'others', 'couldnt', 'her', 'no', 'top', 'itself', 'there', 'always', 'part', 'further', 'see', 'down', 'whose', 'almost', 'something', 'you', 'i', 'just', 'onto', 'or', 'ours', 'found', 'often', 'been', 'never', 'via', 'side', 'mine', 'least', 'two', 'nobody', 'few', 'fill', 'if', 'con', 'six', 'wherever', 'may', 'were', 'serious', 'get', 'please', 'thereby', 'whenever', 'herein', 'after', 'co', 'about', 'what', 'ten', 'noone', 'though', 'their', 'thru', 'be', 'become', 'system', 'amount', 'moreover', 'move', 'towards', 'mostly', 'doesn', 'seemed', 'fire', 'toward', 'make', 'take', 'made', 'because', 'yet', 'amongst', 'has', 'would', 'them', 'twenty', 'hence', 'show', 'other', 'nine', 'except', 'only', 'ourselves', 'formerly', 'none', 'between', 'empty', 'in', 'perhaps', 'etc', 'hereby', 'otherwise', 'us', 'had', 'using', 'de', 'and', 'such', 'go', 'four', 'since', 'hereafter', 'someone', 'next', 'where', 'keep', 'fifteen', 'the', 'inc', 'will', 'became', 'twelve', 'mill', 'is', 'last', 'herself', 'whoever', 'still', 'once', 're', 'thereafter', 'sincere', 'former', 'should', 'each', 'are', 'anyhow', 'among', 'whole', 'quite', 'indeed', 'eight', 'whom', 'third', 'first', 'interest', 'name', 'neither', 'computer', 'without', 'thus', 'through', 'your', 'describe', 'when', 'yours', 'un', 'everything', 'nothing', 'detail'})\n"
     ]
    },
    {
     "data": {
      "text/plain": [
       "337"
      ]
     },
     "execution_count": 17,
     "metadata": {},
     "output_type": "execute_result"
    }
   ],
   "source": [
    "gensim_stop = gensim.parsing.preprocessing.STOPWORDS\n",
    "print(gensim_stop)\n",
    "len(gensim_stop)"
   ]
  },
  {
   "cell_type": "markdown",
   "id": "7aeeb096",
   "metadata": {},
   "source": [
    "### SpaCy library"
   ]
  },
  {
   "cell_type": "code",
   "execution_count": null,
   "id": "abaf469e",
   "metadata": {},
   "outputs": [],
   "source": [
    "# downloaded the english package in conda environment using \"python -m spacy download en\"\n",
    "#You can now load the package via spacy.load('en_core_web_sm') <-- output to load"
   ]
  },
  {
   "cell_type": "code",
   "execution_count": 27,
   "id": "f74647ae",
   "metadata": {},
   "outputs": [],
   "source": [
    "import spacy\n",
    "sp = spacy.load('en_core_web_sm')"
   ]
  },
  {
   "cell_type": "markdown",
   "id": "8cdde00d",
   "metadata": {},
   "source": [
    "**These are the stopwords for SpaCy.** There are 326 of them."
   ]
  },
  {
   "cell_type": "code",
   "execution_count": 28,
   "id": "6add87e0",
   "metadata": {},
   "outputs": [
    {
     "name": "stdout",
     "output_type": "stream",
     "text": [
      "{'that', 'around', 'various', 'latter', 'during', 'both', 'our', 'under', 'anything', 'any', 'bottom', 'hereupon', 'did', 'out', 'really', 'they', 'hers', 'somewhere', 'also', 'three', 'this', 'who', 'alone', 'although', 'whereby', 'enough', 'elsewhere', 'sometimes', 'per', 'everyone', 'together', 'along', 'it', 'doing', 'thereupon', 'within', 'an', 'all', 'most', 'used', 'seeming', 'being', 'more', 'beside', 'latterly', 'whatever', 'below', 'back', 'done', 'sometime', 'have', 'whither', 'him', 'his', 'those', 'off', 'rather', 'somehow', 'up', '’ve', 'afterwards', 'already', 'themselves', 'over', 'n’t', 'cannot', 'behind', 'am', 'front', '‘s', 'whereafter', 'even', 'while', 'own', 'forty', 'by', 'against', 'might', '’ll', 'so', 'due', 'every', 'very', 'anyway', 'can', 'thence', 'too', 'which', 'seem', 'now', 'ever', 'several', 'me', \"'m\", 'nowhere', 'full', 'besides', 'then', 'anyone', 'above', 'but', '‘d', 'throughout', 'of', 'becoming', 'everywhere', 'how', 'much', 'yourself', 'must', 'give', 'unless', \"'s\", 'again', 'myself', 'with', 'wherein', 'else', 'from', 'therefore', '‘re', 'before', 'call', 'he', 'here', 'put', 'upon', 'eleven', 'to', 'whether', 'seems', 'on', 'why', 'another', 'than', 'nor', 'therein', 'namely', 'well', 'same', 'at', 'these', 'we', 'whence', 'n‘t', 'its', 'nevertheless', 'could', 'hundred', 'a', 'regarding', 'across', 'for', 'until', 'beyond', 'some', 'sixty', 'say', 'whereas', 'either', 'fifty', 'himself', 'less', 'five', 'one', 'into', 'however', 'beforehand', 'whereupon', 'meanwhile', 'do', '’d', 'does', 'many', 'yourselves', 'she', 'anywhere', 'becomes', 'my', 'as', 'was', 'others', 'her', 'no', 'top', '‘m', 'itself', 'ca', 'there', \"'ve\", 'always', 'part', 'further', 'see', 'down', 'almost', 'whose', 'something', 'you', 'i', 'just', 'onto', 'or', '‘ve', 'ours', 'been', 'often', 'never', 'via', 'side', 'mine', 'least', 'two', 'nobody', 'few', 'if', 'six', 'wherever', 'may', 'were', 'serious', 'get', 'please', 'thereby', \"'re\", 'whenever', 'herein', 'after', 'about', 'what', 'ten', 'noone', 'their', 'though', 'thru', 'be', 'become', 'amount', \"'d\", 'move', 'towards', 'mostly', 'seemed', 'toward', 'make', 'take', 'made', 'because', 'yet', 'amongst', 'has', 'would', 'them', 'twenty', 'hence', 'show', 'other', 'nine', 'except', 'only', 'ourselves', 'formerly', 'none', 'between', 'empty', 'in', 'perhaps', 'hereby', 'otherwise', '’m', 'us', 'had', 'using', \"'ll\", 'and', 'such', 'go', 'four', 'since', 'hereafter', 'someone', 'next', 'where', 'keep', '‘ll', 'fifteen', 'the', 'will', 'became', 'twelve', 'is', 'last', 'herself', 'whoever', 'once', 'still', 're', 'thereafter', 'former', 'should', 'each', 'anyhow', 'are', 'among', 'whole', 'quite', 'indeed', \"n't\", 'eight', 'third', 'first', 'whom', 'name', 'neither', 'without', 'thus', 'through', '’s', 'your', 'when', 'yours', '’re', 'everything', 'nothing'}\n",
      "324\n"
     ]
    }
   ],
   "source": [
    "SpaCy_stop = sp.Defaults.stop_words\n",
    "print(SpaCy_stop)\n",
    "print(len(SpaCy_stop))"
   ]
  },
  {
   "cell_type": "code",
   "execution_count": 29,
   "id": "407284c9",
   "metadata": {},
   "outputs": [
    {
     "ename": "KeyError",
     "evalue": "'not'",
     "output_type": "error",
     "traceback": [
      "\u001b[1;31m---------------------------------------------------------------------------\u001b[0m",
      "\u001b[1;31mKeyError\u001b[0m                                  Traceback (most recent call last)",
      "\u001b[1;32m<ipython-input-29-4d33a91cd019>\u001b[0m in \u001b[0;36m<module>\u001b[1;34m\u001b[0m\n\u001b[0;32m      1\u001b[0m \u001b[1;31m# remove stopwords from the stop words of SpaCy\u001b[0m\u001b[1;33m\u001b[0m\u001b[1;33m\u001b[0m\u001b[1;33m\u001b[0m\u001b[0m\n\u001b[1;32m----> 2\u001b[1;33m \u001b[0mSpaCy_stop\u001b[0m\u001b[1;33m.\u001b[0m\u001b[0mremove\u001b[0m\u001b[1;33m(\u001b[0m\u001b[1;34m'not'\u001b[0m\u001b[1;33m)\u001b[0m\u001b[1;33m\u001b[0m\u001b[1;33m\u001b[0m\u001b[0m\n\u001b[0m\u001b[0;32m      3\u001b[0m \u001b[0mprint\u001b[0m\u001b[1;33m(\u001b[0m\u001b[0mSpaCy_stop\u001b[0m\u001b[1;33m)\u001b[0m\u001b[1;33m\u001b[0m\u001b[1;33m\u001b[0m\u001b[0m\n",
      "\u001b[1;31mKeyError\u001b[0m: 'not'"
     ]
    }
   ],
   "source": [
    "# remove stopwords from the stop words of SpaCy\n",
    "SpaCy_stop.remove('no') #Melissa: how to revome like n't? that seems needed....maybe is HTML?\n",
    "print(SpaCy_stop)"
   ]
  },
  {
   "cell_type": "markdown",
   "id": "e6fca6f1",
   "metadata": {},
   "source": [
    "It seems the NLTK and SpaCy are some of the most commonly used so I am going to work with those two packages for now"
   ]
  },
  {
   "cell_type": "markdown",
   "id": "65387940",
   "metadata": {},
   "source": [
    "## SpaCy lemmatization\n",
    "\n",
    "Note: first I am not doing the stop words just to see what I am working with. It seems that some people seem to think they are actually useful to keep so not having the stopwords removed may be beneficial."
   ]
  },
  {
   "cell_type": "code",
   "execution_count": null,
   "id": "3e680acf",
   "metadata": {},
   "outputs": [],
   "source": []
  }
 ],
 "metadata": {
  "kernelspec": {
   "display_name": "Python 3",
   "language": "python",
   "name": "python3"
  },
  "language_info": {
   "codemirror_mode": {
    "name": "ipython",
    "version": 3
   },
   "file_extension": ".py",
   "mimetype": "text/x-python",
   "name": "python",
   "nbconvert_exporter": "python",
   "pygments_lexer": "ipython3",
   "version": "3.9.4"
  }
 },
 "nbformat": 4,
 "nbformat_minor": 5
}
