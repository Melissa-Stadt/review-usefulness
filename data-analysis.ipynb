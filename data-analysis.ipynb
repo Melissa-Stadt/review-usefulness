{
 "cells": [
  {
   "cell_type": "markdown",
   "metadata": {},
   "source": [
    "# **Layton Lab Data Analysis project**\n",
    "\n",
    "**Group Members:** Delaney Smith, Melissa Stadt\n",
    "\n",
    "Determining useful reviews"
   ]
  },
  {
   "cell_type": "code",
   "execution_count": 1,
   "metadata": {
    "_cell_guid": "b1076dfc-b9ad-4769-8c92-a6c4dae69d19",
    "_uuid": "8f2839f25d086af736a60e9eeb907d3b93b6e0e5"
   },
   "outputs": [],
   "source": [
    "import numpy as np # linear algebra\n",
    "import pandas as pd # data processing, CSV file I/O (e.g. pd.read_csv)\n",
    "import os"
   ]
  },
  {
   "cell_type": "code",
   "execution_count": 2,
   "metadata": {},
   "outputs": [],
   "source": [
    "import matplotlib.pyplot as plt\n",
    "import seaborn as sns\n",
    "%matplotlib inline\n",
    "from matplotlib import style\n",
    "style.use('ggplot')"
   ]
  },
  {
   "cell_type": "markdown",
   "metadata": {},
   "source": [
    "# Import data\n",
    "\n",
    "This is to look at what the data set has to get an idea of what is going on overall and then will breakdown into the birth control data"
   ]
  },
  {
   "cell_type": "code",
   "execution_count": 3,
   "metadata": {},
   "outputs": [],
   "source": [
    "test = pd.read_csv('./data/drugsComTest_raw.csv')\n",
    "train = pd.read_csv('./data/drugsComTrain_raw.csv')"
   ]
  },
  {
   "cell_type": "code",
   "execution_count": 4,
   "metadata": {},
   "outputs": [
    {
     "name": "stdout",
     "output_type": "stream",
     "text": [
      "train has 161297 number of rows and 7 columns\n",
      "test has 53766 number of rows and 7 columns\n"
     ]
    }
   ],
   "source": [
    "print(f'train has {train.shape[0]} number of rows and {train.shape[1]} columns')\n",
    "print(f'test has {test.shape[0]} number of rows and {test.shape[1]} columns')\n"
   ]
  },
  {
   "cell_type": "markdown",
   "metadata": {},
   "source": [
    "Combine the train and test set to see the total amount of data we have available."
   ]
  },
  {
   "cell_type": "code",
   "execution_count": 5,
   "metadata": {},
   "outputs": [],
   "source": [
    "merge = [train,test]\n",
    "merged_data = pd.concat(merge,ignore_index=True)"
   ]
  },
  {
   "cell_type": "code",
   "execution_count": 6,
   "metadata": {},
   "outputs": [
    {
     "name": "stdout",
     "output_type": "stream",
     "text": [
      "<class 'pandas.core.frame.DataFrame'>\n",
      "RangeIndex: 215063 entries, 0 to 215062\n",
      "Data columns (total 7 columns):\n",
      " #   Column       Non-Null Count   Dtype \n",
      "---  ------       --------------   ----- \n",
      " 0   uniqueID     215063 non-null  int64 \n",
      " 1   drugName     215063 non-null  object\n",
      " 2   condition    213869 non-null  object\n",
      " 3   review       215063 non-null  object\n",
      " 4   rating       215063 non-null  int64 \n",
      " 5   date         215063 non-null  object\n",
      " 6   usefulCount  215063 non-null  int64 \n",
      "dtypes: int64(3), object(4)\n",
      "memory usage: 11.5+ MB\n"
     ]
    }
   ],
   "source": [
    "merged_data.info()"
   ]
  },
  {
   "cell_type": "code",
   "execution_count": 7,
   "metadata": {},
   "outputs": [
    {
     "name": "stdout",
     "output_type": "stream",
     "text": [
      "916\n"
     ]
    }
   ],
   "source": [
    "print(merged_data['condition'].nunique())"
   ]
  },
  {
   "cell_type": "code",
   "execution_count": 8,
   "metadata": {},
   "outputs": [
    {
     "name": "stdout",
     "output_type": "stream",
     "text": [
      "        uniqueID                  drugName                     condition  \\\n",
      "0         206461                 Valsartan  Left Ventricular Dysfunction   \n",
      "1          95260                Guanfacine                          ADHD   \n",
      "2          92703                    Lybrel                 Birth Control   \n",
      "3         138000                Ortho Evra                 Birth Control   \n",
      "4          35696  Buprenorphine / naloxone             Opiate Dependence   \n",
      "...          ...                       ...                           ...   \n",
      "215058    159999                 Tamoxifen     Breast Cancer, Prevention   \n",
      "215059    140714              Escitalopram                       Anxiety   \n",
      "215060    130945            Levonorgestrel                 Birth Control   \n",
      "215061     47656                Tapentadol                          Pain   \n",
      "215062    113712                 Arthrotec                      Sciatica   \n",
      "\n",
      "                                                   review  rating       date  \\\n",
      "0       \"It has no side effect, I take it in combinati...       9  20-May-12   \n",
      "1       \"My son is halfway through his fourth week of ...       8  27-Apr-10   \n",
      "2       \"I used to take another oral contraceptive, wh...       5  14-Dec-09   \n",
      "3       \"This is my first time using any form of birth...       8   3-Nov-15   \n",
      "4       \"Suboxone has completely turned my life around...       9  27-Nov-16   \n",
      "...                                                   ...     ...        ...   \n",
      "215058  \"I have taken Tamoxifen for 5 years. Side effe...      10  13-Sep-14   \n",
      "215059  \"I&#039;ve been taking Lexapro (escitaploprgra...       9   8-Oct-16   \n",
      "215060  \"I&#039;m married, 34 years old and I have no ...       8  15-Nov-10   \n",
      "215061  \"I was prescribed Nucynta for severe neck/shou...       1  28-Nov-11   \n",
      "215062                                      \"It works!!!\"       9  13-Sep-09   \n",
      "\n",
      "        usefulCount  \n",
      "0                27  \n",
      "1               192  \n",
      "2                17  \n",
      "3                10  \n",
      "4                37  \n",
      "...             ...  \n",
      "215058           43  \n",
      "215059           11  \n",
      "215060            7  \n",
      "215061           20  \n",
      "215062           46  \n",
      "\n",
      "[215063 rows x 7 columns]\n"
     ]
    }
   ],
   "source": [
    "print(merged_data)"
   ]
  },
  {
   "cell_type": "code",
   "execution_count": null,
   "metadata": {},
   "outputs": [],
   "source": [
    "plt.figure(figsize=(12,6))\n",
    "conditions = merged_data['condition'].value_counts(ascending = False).head(20)\n",
    "\n",
    "plt.bar(conditions.index,conditions.values)\n",
    "plt.title('Top 20 conditions by count',fontsize = 20)\n",
    "plt.xticks(rotation=90)\n",
    "plt.ylabel('count')\n",
    "plt.show()"
   ]
  },
  {
   "cell_type": "markdown",
   "metadata": {},
   "source": [
    "We can see that birth control has the most data so we will start with building the model on the birth control data set since it is likely that different words will be used in different types of medications for different types of conditions (i.e., birth control reviews may refer to periods, pregnancy, cramps, etc. where as anxiety would refer to other symptoms/side effects)"
   ]
  },
  {
   "cell_type": "markdown",
   "metadata": {},
   "source": [
    "# Birth control\n",
    "\n",
    "Here we will consider the birth control data and break it down to drugs and analyze feature distributions as well as look at reviews."
   ]
  },
  {
   "cell_type": "markdown",
   "metadata": {},
   "source": [
    "bc_merged is the birth control data for the full merged (i.e., test and train) set"
   ]
  },
  {
   "cell_type": "code",
   "execution_count": null,
   "metadata": {},
   "outputs": [],
   "source": [
    "bc_merged = merged_data[merged_data['condition'] == 'Birth Control']"
   ]
  },
  {
   "cell_type": "code",
   "execution_count": null,
   "metadata": {},
   "outputs": [],
   "source": [
    "bc_merged.head(10)"
   ]
  },
  {
   "cell_type": "code",
   "execution_count": null,
   "metadata": {},
   "outputs": [],
   "source": [
    "bc_merged.info()"
   ]
  },
  {
   "cell_type": "code",
   "execution_count": null,
   "metadata": {},
   "outputs": [],
   "source": [
    "print(bc_merged['drugName'].nunique())"
   ]
  },
  {
   "cell_type": "code",
   "execution_count": null,
   "metadata": {},
   "outputs": [],
   "source": [
    "total_bc = bc_merged['uniqueID'].nunique()\n",
    "print(total_bc)"
   ]
  },
  {
   "cell_type": "markdown",
   "metadata": {},
   "source": [
    "There are 38,436 instances for the birth control condition data with 181 different drugs."
   ]
  },
  {
   "cell_type": "code",
   "execution_count": null,
   "metadata": {},
   "outputs": [],
   "source": [
    "plt.figure(figsize = (12,6))\n",
    "drugNames_top = bc_merged['drugName'].value_counts(ascending = False).head(40)\n",
    "\n",
    "plt.bar(drugNames_top.index, drugNames_top.values)\n",
    "plt.title('Top 40 Birth Control Drug Names')\n",
    "plt.xticks(rotation=90)\n",
    "plt.ylabel('count')\n",
    "plt.show()"
   ]
  },
  {
   "cell_type": "code",
   "execution_count": null,
   "metadata": {},
   "outputs": [],
   "source": [
    "plt.figure(figsize = (12,6))\n",
    "drugNames_top = bc_merged['drugName'].value_counts(ascending = False).head(20)\n",
    "\n",
    "plt.bar(drugNames_top.index, drugNames_top.values)\n",
    "plt.title('Top 20 Birth Control Drug Names')\n",
    "plt.xticks(rotation=90)\n",
    "plt.ylabel('count')\n",
    "plt.show()"
   ]
  },
  {
   "cell_type": "code",
   "execution_count": null,
   "metadata": {},
   "outputs": [],
   "source": [
    "plt.figure(figsize=(12,6))\n",
    "drugNames_bottom = bc_merged['drugName'].value_counts(ascending = False).tail(40) # last 40 drugs by review counts\n",
    "plt.bar(drugNames_bottom.index, drugNames_bottom.values)\n",
    "plt.title('Bottom 40 Birth Control Drug Names')\n",
    "plt.xticks(rotation=90)\n",
    "plt.ylabel('count')\n",
    "plt.show()\n"
   ]
  },
  {
   "cell_type": "markdown",
   "metadata": {},
   "source": [
    "# Birth Control Drug Ratings\n",
    "\n",
    "Below is analysis of the distribution of ratings for the birth control drug reviews"
   ]
  },
  {
   "cell_type": "code",
   "execution_count": null,
   "metadata": {},
   "outputs": [],
   "source": [
    "ratings = bc_merged['rating'].value_counts().sort_values(ascending=False).reset_index().rename(columns = {'index':'rating', 'rating':'counts'})\n",
    "sns.barplot(x = ratings['rating'], y = ratings['counts'])\n",
    "plt.title('Ratings Count')\n",
    "plt.show()"
   ]
  },
  {
   "cell_type": "code",
   "execution_count": null,
   "metadata": {},
   "outputs": [],
   "source": [
    "plt.figure(figsize=(12,6))\n",
    "usefulness = bc_merged['usefulCount'].value_counts().sort_values(ascending = False).reset_index().rename(columns = {'index':'Useful Count', 'usefulCount':'Number of Reviews'})\n",
    "first35useful = usefulness.head(35)\n",
    "sns.barplot(x = first35useful['Useful Count'], y = first35useful['Number of Reviews'])\n",
    "#plt.title('Usefulness Score Counts')\n",
    "plt.show()"
   ]
  },
  {
   "cell_type": "code",
   "execution_count": null,
   "metadata": {},
   "outputs": [],
   "source": [
    "ratings['percent'] = 100*(ratings['counts']/bc_merged.shape[0])\n",
    "sns.barplot(x = ratings['rating'], y = ratings['percent'])\n",
    "plt.title('Ratings')\n",
    "plt.show()"
   ]
  },
  {
   "cell_type": "markdown",
   "metadata": {},
   "source": [
    "Same plot as previous just giving percents. We can see that star ratings of 10 and 1 are the most frequent at 20% and 15%."
   ]
  },
  {
   "cell_type": "code",
   "execution_count": null,
   "metadata": {},
   "outputs": [],
   "source": [
    "usefulness = bc_merged['usefulCount'].value_counts().sort_values(ascending = False).reset_index().rename(columns = {'index':'usefulness', 'usefulCount':'counts'})\n",
    "first40useful = usefulness.head(40)\n",
    "sns.barplot(x = first40useful['usefulness'], y = first40useful['counts'])\n",
    "plt.title('First 40 Usefulness Score Counts')\n",
    "plt.show()"
   ]
  },
  {
   "cell_type": "code",
   "execution_count": null,
   "metadata": {},
   "outputs": [],
   "source": [
    "bottom20useful = usefulness.tail(20)\n",
    "sns.barplot(x = bottom20useful['usefulness'], y = bottom20useful['counts'])\n",
    "plt.title('Bottom 20 Usefulness Score Counts')\n",
    "plt.show()"
   ]
  },
  {
   "cell_type": "code",
   "execution_count": null,
   "metadata": {},
   "outputs": [],
   "source": [
    "# Question: Melissa: do you know of a different command that does similar thing? This plot is awkward? May be because of the long distribution tail\n",
    "sns.distplot(bc_merged['usefulCount'])\n",
    "plt.show()"
   ]
  },
  {
   "cell_type": "code",
   "execution_count": null,
   "metadata": {},
   "outputs": [],
   "source": [
    "threshold = 5\n",
    "below_threshold = sum(sum([bc_merged['usefulCount']< threshold]))\n",
    "above_threshold = sum(sum([bc_merged['usefulCount']>= threshold]))\n",
    "print('Percent of birth control reviews below threshold: %.2f percent' % (100 * below_threshold/total_bc))"
   ]
  },
  {
   "cell_type": "markdown",
   "metadata": {},
   "source": [
    "Around 50% of the useful counts are below 5."
   ]
  },
  {
   "cell_type": "code",
   "execution_count": null,
   "metadata": {},
   "outputs": [],
   "source": [
    "threshold = 50\n",
    "below_threshold = sum(sum([bc_merged['usefulCount']< threshold]))\n",
    "above_threshold = sum(sum([bc_merged['usefulCount']>= threshold]))\n",
    "print('Percent of birth control reviews below threshold: %.2f percent' % (100 * below_threshold/total_bc))"
   ]
  },
  {
   "cell_type": "markdown",
   "metadata": {},
   "source": [
    "Almost all of the birth control reviews usefulCount are below 50. "
   ]
  },
  {
   "cell_type": "code",
   "execution_count": null,
   "metadata": {},
   "outputs": [],
   "source": [
    "# print n reviews\n",
    "n = 10\n",
    "for rev in bc_merged.review.iloc[:n]:\n",
    "    print(rev, '\\n')"
   ]
  },
  {
   "cell_type": "code",
   "execution_count": null,
   "metadata": {},
   "outputs": [],
   "source": [
    "bc_10star = bc_merged[bc_merged['rating'] == 10]\n",
    "# print n rating = 10 reviews\n",
    "n = 10\n",
    "for rev in bc_10star.review.iloc[:n]:\n",
    "    print(rev, '\\n')"
   ]
  },
  {
   "cell_type": "code",
   "execution_count": null,
   "metadata": {},
   "outputs": [],
   "source": [
    "bc_1star = bc_merged[bc_merged['rating']==1]\n",
    "# print n rating = 10 reviews\n",
    "n = 10\n",
    "for rev in bc_1star.review.iloc[:n]:\n",
    "    print(rev, '\\n')"
   ]
  },
  {
   "cell_type": "code",
   "execution_count": null,
   "metadata": {},
   "outputs": [],
   "source": [
    "bc_7star = bc_merged[bc_merged['rating']==7]\n",
    "# print n rating = 10 reviews\n",
    "n = 10\n",
    "for rev in bc_7star.review.iloc[:n]:\n",
    "    print(rev, '\\n')"
   ]
  },
  {
   "cell_type": "code",
   "execution_count": null,
   "metadata": {},
   "outputs": [],
   "source": [
    "bc_5star = bc_merged[bc_merged['rating']==5]\n",
    "# print n rating = 10 reviews\n",
    "n = 10\n",
    "for rev in bc_5star.review.iloc[:n]:\n",
    "    print(rev, '\\n')"
   ]
  },
  {
   "cell_type": "code",
   "execution_count": null,
   "metadata": {},
   "outputs": [],
   "source": [
    "# arrange data from most to least useful by the usefulCount\n",
    "useful_bc = bc_merged.sort_values(by = 'usefulCount', ascending=False)"
   ]
  },
  {
   "cell_type": "markdown",
   "metadata": {},
   "source": [
    "Here we can see some example useful reviews and not useful reviews to get an idea about what the reviews content may be."
   ]
  },
  {
   "cell_type": "code",
   "execution_count": null,
   "metadata": {},
   "outputs": [],
   "source": [
    "bc_highuseful = bc_merged[bc_merged['usefulCount']>300]\n",
    "# print n rating = 10 reviews\n",
    "n = 10\n",
    "for j in range(n):\n",
    "    print('Useful count: ' + str(bc_highuseful.iloc[j].usefulCount))\n",
    "    print(bc_highuseful.iloc[j].review)\n",
    "    print('\\n')"
   ]
  },
  {
   "cell_type": "code",
   "execution_count": null,
   "metadata": {},
   "outputs": [],
   "source": [
    "bc_low_useful = bc_merged[bc_merged['usefulCount']==0]\n",
    "# print n rating = 10 reviews\n",
    "n = 10\n",
    "for j in range(n):\n",
    "    print('Useful count: ' + str(bc_low_useful.iloc[j].usefulCount))\n",
    "    print(bc_low_useful.iloc[j].review)\n",
    "    print('\\n')"
   ]
  },
  {
   "cell_type": "code",
   "execution_count": null,
   "metadata": {},
   "outputs": [],
   "source": [
    "# Print top n most useful reviews by count\n",
    "n = 10\n",
    "for rev in useful_bc.review.iloc[:n]:\n",
    "    print(rev, '\\n')"
   ]
  },
  {
   "cell_type": "code",
   "execution_count": null,
   "metadata": {},
   "outputs": [],
   "source": [
    "# Print top n most useful reviews by count\n",
    "n = 10\n",
    "for rev in useful_bc.review.iloc[:n]:\n",
    "    print(rev, '\\n')"
   ]
  },
  {
   "cell_type": "code",
   "execution_count": null,
   "metadata": {},
   "outputs": [],
   "source": [
    "# Print n least useful reviews\n",
    "for rev in useful_bc.review.iloc[-n:]:\n",
    "    print(rev, '\\n')"
   ]
  },
  {
   "cell_type": "code",
   "execution_count": null,
   "metadata": {},
   "outputs": [],
   "source": []
  }
 ],
 "metadata": {
  "kernelspec": {
   "display_name": "Python 3",
   "language": "python",
   "name": "python3"
  },
  "language_info": {
   "codemirror_mode": {
    "name": "ipython",
    "version": 3
   },
   "file_extension": ".py",
   "mimetype": "text/x-python",
   "name": "python",
   "nbconvert_exporter": "python",
   "pygments_lexer": "ipython3",
   "version": "3.8.5"
  }
 },
 "nbformat": 4,
 "nbformat_minor": 4
}
